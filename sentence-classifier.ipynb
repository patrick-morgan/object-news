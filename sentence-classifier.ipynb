{
 "cells": [
  {
   "cell_type": "code",
   "execution_count": 1,
   "metadata": {},
   "outputs": [],
   "source": [
    "import torch\n",
    "import torch.nn as nn\n",
    "import torch.nn.functional as F\n",
    "import matplotlib.pyplot as plt\n",
    "%matplotlib inline"
   ]
  },
  {
   "cell_type": "code",
   "execution_count": 2,
   "metadata": {},
   "outputs": [],
   "source": [
    "import numpy as np\n",
    "from collections import defaultdict\n",
    "import re\n",
    "\n",
    "def read_file(path):\n",
    "    with open(path, encoding = \"ISO-8859-1\") as f:\n",
    "        content = np.array(f.readlines())\n",
    "    return content\n",
    "\n",
    "def get_vocab(content):\n",
    "    # Builds a dict with word counts\n",
    "    # counts number of times a word is on a document\n",
    "    vocab = defaultdict(float)\n",
    "    for line in content:\n",
    "        words = set(line.split())\n",
    "        for word in words:\n",
    "            vocab[word] += 1\n",
    "    return vocab"
   ]
  },
  {
   "cell_type": "code",
   "execution_count": 3,
   "metadata": {},
   "outputs": [],
   "source": [
    "PATH = './data/'\n",
    "sub_content = read_file(PATH + \"quote.tok.gt9.5000\")\n",
    "obj_content = read_file(PATH + \"plot.tok.gt9.5000\")\n",
    "sub_content = np.array([line.strip().lower() for line in sub_content])\n",
    "obj_content = np.array([line.strip().lower() for line in obj_content])\n",
    "sub_y = np.zeros(len(sub_content))\n",
    "obj_y = np.ones(len(obj_content))\n",
    "X = np.append(sub_content, obj_content)\n",
    "y = np.append(sub_y, obj_y)"
   ]
  },
  {
   "cell_type": "code",
   "execution_count": 4,
   "metadata": {},
   "outputs": [],
   "source": [
    "from sklearn.model_selection import train_test_split\n",
    "X_train, X_test, y_train, y_test = train_test_split(X, y, test_size=0.2, random_state=42)\n",
    "X_val, X_test, y_val, y_test = train_test_split(X_test, y_test, test_size=0.5, random_state=42)"
   ]
  },
  {
   "cell_type": "code",
   "execution_count": 5,
   "metadata": {},
   "outputs": [],
   "source": [
    "data_vocab = get_vocab(X_train)"
   ]
  },
  {
   "cell_type": "code",
   "execution_count": 6,
   "metadata": {},
   "outputs": [],
   "source": [
    "def load_glove_embeddings(gloveFile=PATH + \"glove.6B.300d.txt\"):\n",
    "    \"\"\" Loads word vectors into a dictionary.\"\"\"\n",
    "    f = open(gloveFile,'r')\n",
    "    word_vecs = {}\n",
    "    for line in f:\n",
    "        splitLine = line.split()\n",
    "        word = splitLine[0]\n",
    "        word_vecs[word] = np.array([float(val) for val in splitLine[1:]])\n",
    "    return word_vecs\n",
    "\n",
    "word_vecs = load_glove_embeddings()"
   ]
  },
  {
   "cell_type": "code",
   "execution_count": 7,
   "metadata": {},
   "outputs": [
    {
     "name": "stdout",
     "output_type": "stream",
     "text": [
      "400000 21415\n"
     ]
    }
   ],
   "source": [
    "print(len(word_vecs.keys()), len(data_vocab.keys()))"
   ]
  },
  {
   "cell_type": "code",
   "execution_count": 8,
   "metadata": {},
   "outputs": [
    {
     "name": "stdout",
     "output_type": "stream",
     "text": [
      "21415\n"
     ]
    },
    {
     "data": {
      "text/plain": [
       "18756"
      ]
     },
     "execution_count": 8,
     "metadata": {},
     "output_type": "execute_result"
    }
   ],
   "source": [
    "def delete_rare_words(word_vecs, data_vocab, min_df=2):\n",
    "    \"\"\" Deletes rare words from data_vocab\n",
    "    \n",
    "    Deletes words from data_vocab if they are not in word_vecs\n",
    "    and don't have at least min_df occurrencies in data_vocab.\n",
    "    \"\"\"\n",
    "    words_delete = []\n",
    "    for word in data_vocab:\n",
    "        if data_vocab[word] < min_df and word not in word_vecs:\n",
    "            words_delete.append(word)\n",
    "    for word in words_delete: data_vocab.pop(word)\n",
    "    return data_vocab\n",
    "\n",
    "print(len(data_vocab.keys()))\n",
    "data_vocab = delete_rare_words(word_vecs, data_vocab, min_df=2)\n",
    "len(data_vocab.keys())"
   ]
  },
  {
   "cell_type": "code",
   "execution_count": 13,
   "metadata": {},
   "outputs": [],
   "source": [
    "def create_embedding_matrix(word_vecs, data_vocab, min_df=2, D=300):\n",
    "    # Creates embedding matrix from word vectors\n",
    "    # because we need to put the pretrained weights into a proper format\n",
    "    # as an input for the model\n",
    "    data_vocab = delete_rare_words(word_vecs, data_vocab, min_df)\n",
    "    V = len(data_vocab.keys()) + 2\n",
    "    vocab2index = {}\n",
    "    W = np.zeros((V,D), dtype=\"float32\")\n",
    "    vocab = [\"\", \"UNK\"]\n",
    "    # adding a vector for padding\n",
    "    W[0] = np.zeros(D, dtype='float32')\n",
    "    # adding a vector for rare words\n",
    "    W[1] = np.random.uniform(-0.25,0.25,D)\n",
    "    vocab2index[\"UNK\"] = 1\n",
    "    i = 2\n",
    "    for word in data_vocab:\n",
    "        if word in word_vecs:\n",
    "            W[i] = word_vecs[word]\n",
    "            vocab2index[word] = i\n",
    "            vocab.append(word)\n",
    "            i += 1\n",
    "        else:\n",
    "            W[i] = np.random.uniform(-0.25,0.25,D)\n",
    "            vocab2index[word] = i\n",
    "            vocab.append(word)\n",
    "            i += 1\n",
    "    return W, np.array(vocab), vocab2index\n",
    "\n",
    "pretrained_weight, vocab, vocab2index = create_embedding_matrix(word_vecs, data_vocab)"
   ]
  },
  {
   "cell_type": "code",
   "execution_count": 14,
   "metadata": {},
   "outputs": [
    {
     "data": {
      "text/plain": [
       "18758"
      ]
     },
     "execution_count": 14,
     "metadata": {},
     "output_type": "execute_result"
    }
   ],
   "source": [
    "len(pretrained_weight)"
   ]
  },
  {
   "cell_type": "code",
   "execution_count": 22,
   "metadata": {},
   "outputs": [],
   "source": [
    "def encode_sentence(s, N=40):\n",
    "    enc = np.zeros(N, dtype=np.int32)\n",
    "    enc1 = np.array([vocab2index.get(w, vocab2index[\"UNK\"]) for w in s.split()])\n",
    "    l = min(N, len(enc1))\n",
    "    enc[:l] = enc1[:l]\n",
    "    return enc\n",
    "\n",
    "x_train = np.vstack([encode_sentence(x) for x in X_train])\n",
    "x_val = np.vstack([encode_sentence(x) for x in X_val])\n",
    "x_test = np.vstack([encode_sentence(x) for x in X_test])"
   ]
  },
  {
   "cell_type": "code",
   "execution_count": 23,
   "metadata": {},
   "outputs": [
    {
     "data": {
      "text/plain": [
       "array([ 9, 11,  7,  3,  8,  4,  2,  3, 10,  6,  5, 12,  0,  0,  0,  0,  0,\n",
       "        0,  0,  0,  0,  0,  0,  0,  0,  0,  0,  0,  0,  0,  0,  0,  0,  0,\n",
       "        0,  0,  0,  0,  0,  0], dtype=int32)"
      ]
     },
     "execution_count": 23,
     "metadata": {},
     "output_type": "execute_result"
    }
   ],
   "source": [
    "encode_sentence(X_train[0])"
   ]
  },
  {
   "cell_type": "code",
   "execution_count": 24,
   "metadata": {},
   "outputs": [],
   "source": [
    "\"\"\"\n",
    "V = vocabulary size\n",
    "D = embedding size\n",
    "N = max sentence length\n",
    "\"\"\"\n",
    "class SentenceCNN(nn.Module):    \n",
    "    def __init__(self, V, D, glove_weights):\n",
    "        super(SentenceCNN, self).__init__()\n",
    "        self.glove_weights = glove_weights\n",
    "        self.embedding = nn.Embedding(V, D, padding_idx=0)\n",
    "        self.embedding.weight.data.copy_(torch.from_numpy(self.glove_weights))\n",
    "        self.embedding.weight.requires_grad = False ## freeze embeddings\n",
    "\n",
    "        self.conv_3 = nn.Conv1d(in_channels=D, out_channels=100, kernel_size=3)\n",
    "        self.conv_4 = nn.Conv1d(in_channels=D, out_channels=100, kernel_size=4)\n",
    "        self.conv_5 = nn.Conv1d(in_channels=D, out_channels=100, kernel_size=5)\n",
    "        \n",
    "        self.dropout = nn.Dropout(p=0.5)\n",
    "        self.fc = nn.Linear(300, 1)\n",
    "        \n",
    "    def forward(self, x):\n",
    "        x = self.embedding(x)\n",
    "        x = x.transpose(1,2)\n",
    "        x3 = F.relu(self.conv_3(x))\n",
    "        x4 = F.relu(self.conv_4(x))\n",
    "        x5 = F.relu(self.conv_5(x))\n",
    "        x3 = nn.MaxPool1d(kernel_size = 38)(x3)\n",
    "        x4 = nn.MaxPool1d(kernel_size = 37)(x4)\n",
    "        x5 = nn.MaxPool1d(kernel_size = 36)(x5)\n",
    "        out = torch.cat([x3, x4, x5], 2)\n",
    "        out = out.view(out.size(0), -1)\n",
    "        out = self.dropout(out)\n",
    "        return self.fc(out)   "
   ]
  },
  {
   "cell_type": "code",
   "execution_count": 25,
   "metadata": {},
   "outputs": [],
   "source": [
    "V = len(pretrained_weight)\n",
    "D = 300\n",
    "N = 40\n",
    "model = SentenceCNN(V, D, glove_weights=pretrained_weight)"
   ]
  },
  {
   "cell_type": "code",
   "execution_count": 26,
   "metadata": {},
   "outputs": [],
   "source": [
    "def evaluate(model, x, y):\n",
    "    model.eval()\n",
    "    y_hat = model(x)\n",
    "    loss = F.binary_cross_entropy_with_logits(y_hat, y)\n",
    "    y_pred = y_hat > 0\n",
    "    correct = (y_pred.float() == y).float().sum()\n",
    "    accuracy = correct/y_pred.shape[0]\n",
    "    return {'loss': loss.item(), 'accuracy': accuracy.item()}    "
   ]
  },
  {
   "cell_type": "code",
   "execution_count": 27,
   "metadata": {},
   "outputs": [],
   "source": [
    "def plot_accuracies(history):\n",
    "    accuracies = [x['accuracy'] for x in history]\n",
    "    plt.plot(accuracies, '-x')\n",
    "    plt.xlabel('epoch')\n",
    "    plt.ylabel('accuracy')\n",
    "    plt.title('Accuracy vs. No. of epochs');"
   ]
  },
  {
   "cell_type": "code",
   "execution_count": 28,
   "metadata": {},
   "outputs": [],
   "source": [
    "# accuracy of a random model should be around 0.5\n",
    "x_test = torch.LongTensor(x_test) #.cuda()\n",
    "x_val = torch.LongTensor(x_val)\n",
    "y_test = torch.Tensor(y_test).unsqueeze(1) #).cuda()\n",
    "y_val = torch.Tensor(y_val).unsqueeze(1) #).cuda()"
   ]
  },
  {
   "cell_type": "code",
   "execution_count": 30,
   "metadata": {},
   "outputs": [
    {
     "data": {
      "text/plain": [
       "{'loss': 0.6980594396591187, 'accuracy': 0.4580000042915344}"
      ]
     },
     "execution_count": 30,
     "metadata": {},
     "output_type": "execute_result"
    }
   ],
   "source": [
    "evaluate(model, x_val, y_val)"
   ]
  },
  {
   "cell_type": "code",
   "execution_count": 34,
   "metadata": {},
   "outputs": [],
   "source": [
    "def train_epochs(model, epochs=10, lr=0.01):\n",
    "    metrics = []\n",
    "    parameters = filter(lambda p: p.requires_grad, model.parameters()) #filters parameters with p.requires_grad=True\n",
    "    optimizer = torch.optim.Adam(parameters, lr=lr)\n",
    "    model.train()\n",
    "    for i in range(epochs):\n",
    "        model.train()\n",
    "        x = torch.LongTensor(x_train)  #.cuda()\n",
    "        y = torch.Tensor(y_train).unsqueeze(1)\n",
    "        y_hat = model(x)\n",
    "        loss = F.binary_cross_entropy_with_logits(y_hat, y)\n",
    "        optimizer.zero_grad()\n",
    "        loss.backward()\n",
    "        optimizer.step()\n",
    "        ev = evaluate(model, x, y)\n",
    "        metrics.append(ev)\n",
    "        print(\"Epoch [{}], train_loss: {:.4f}, train_acc: {:.4f}\".format(i, ev['loss'], ev['accuracy']))\n",
    "    return metrics"
   ]
  },
  {
   "cell_type": "code",
   "execution_count": 35,
   "metadata": {},
   "outputs": [
    {
     "name": "stdout",
     "output_type": "stream",
     "text": [
      "Epoch [0], train_loss: 0.7312, train_acc: 0.6706\n",
      "Epoch [1], train_loss: 0.2876, train_acc: 0.8815\n",
      "Epoch [2], train_loss: 0.3403, train_acc: 0.8595\n",
      "Epoch [3], train_loss: 0.4545, train_acc: 0.8043\n",
      "Epoch [4], train_loss: 0.3902, train_acc: 0.8356\n",
      "Epoch [5], train_loss: 0.3005, train_acc: 0.8850\n",
      "Epoch [6], train_loss: 0.2664, train_acc: 0.9071\n",
      "Epoch [7], train_loss: 0.2824, train_acc: 0.8965\n",
      "Epoch [8], train_loss: 0.3123, train_acc: 0.8739\n",
      "Epoch [9], train_loss: 0.3230, train_acc: 0.8650\n",
      "validation set: {'loss': 0.3857586681842804, 'accuracy': 0.8199999928474426}\n"
     ]
    },
    {
     "data": {
      "image/png": "[encoded data removed]",
      "text/plain": [
       "<Figure size 432x288 with 1 Axes>"
      ]
     },
     "metadata": {
      "needs_background": "light"
     },
     "output_type": "display_data"
    }
   ],
   "source": [
    "metrics = train_epochs(model, epochs=10, lr=0.005)\n",
    "print('validation set:', evaluate(model, x_val, y_val))\n",
    "plot_accuracies(metrics)"
   ]
  },
  {
   "cell_type": "code",
   "execution_count": 36,
   "metadata": {},
   "outputs": [
    {
     "name": "stdout",
     "output_type": "stream",
     "text": [
      "Epoch [0], train_loss: 0.2765, train_acc: 0.8971\n",
      "Epoch [1], train_loss: 0.2551, train_acc: 0.9129\n",
      "Epoch [2], train_loss: 0.2496, train_acc: 0.9146\n",
      "Epoch [3], train_loss: 0.2496, train_acc: 0.9118\n",
      "Epoch [4], train_loss: 0.2484, train_acc: 0.9099\n",
      "Epoch [5], train_loss: 0.2427, train_acc: 0.9114\n",
      "Epoch [6], train_loss: 0.2327, train_acc: 0.9133\n",
      "Epoch [7], train_loss: 0.2208, train_acc: 0.9170\n",
      "Epoch [8], train_loss: 0.2102, train_acc: 0.9209\n",
      "Epoch [9], train_loss: 0.2033, train_acc: 0.9236\n",
      "validation set: {'loss': 0.25566279888153076, 'accuracy': 0.8949999809265137}\n"
     ]
    },
    {
     "data": {
      "image/png": "[encoded data removed]",
      "text/plain": [
       "<Figure size 432x288 with 1 Axes>"
      ]
     },
     "metadata": {
      "needs_background": "light"
     },
     "output_type": "display_data"
    }
   ],
   "source": [
    "train_epochs(model, epochs=10, lr=0.001)\n",
    "print('validation set:', evaluate(model, x_val, y_val))\n",
    "plot_accuracies(metrics)"
   ]
  },
  {
   "cell_type": "code",
   "execution_count": 37,
   "metadata": {},
   "outputs": [
    {
     "name": "stdout",
     "output_type": "stream",
     "text": [
      "Epoch [0], train_loss: 0.1958, train_acc: 0.9256\n",
      "Epoch [1], train_loss: 0.1893, train_acc: 0.9281\n",
      "Epoch [2], train_loss: 0.1836, train_acc: 0.9309\n",
      "Epoch [3], train_loss: 0.1784, train_acc: 0.9325\n",
      "Epoch [4], train_loss: 0.1734, train_acc: 0.9341\n",
      "Epoch [5], train_loss: 0.1687, train_acc: 0.9359\n",
      "Epoch [6], train_loss: 0.1642, train_acc: 0.9373\n",
      "Epoch [7], train_loss: 0.1597, train_acc: 0.9395\n",
      "Epoch [8], train_loss: 0.1554, train_acc: 0.9421\n",
      "Epoch [9], train_loss: 0.1512, train_acc: 0.9441\n",
      "Epoch [10], train_loss: 0.1471, train_acc: 0.9455\n",
      "Epoch [11], train_loss: 0.1431, train_acc: 0.9466\n",
      "Epoch [12], train_loss: 0.1392, train_acc: 0.9482\n",
      "Epoch [13], train_loss: 0.1354, train_acc: 0.9507\n",
      "Epoch [14], train_loss: 0.1316, train_acc: 0.9530\n",
      "Epoch [15], train_loss: 0.1280, train_acc: 0.9549\n",
      "Epoch [16], train_loss: 0.1243, train_acc: 0.9570\n",
      "Epoch [17], train_loss: 0.1208, train_acc: 0.9586\n",
      "Epoch [18], train_loss: 0.1172, train_acc: 0.9601\n",
      "Epoch [19], train_loss: 0.1137, train_acc: 0.9622\n",
      "Epoch [20], train_loss: 0.1103, train_acc: 0.9632\n",
      "Epoch [21], train_loss: 0.1069, train_acc: 0.9646\n",
      "Epoch [22], train_loss: 0.1036, train_acc: 0.9665\n",
      "Epoch [23], train_loss: 0.1003, train_acc: 0.9675\n",
      "Epoch [24], train_loss: 0.0971, train_acc: 0.9690\n",
      "Epoch [25], train_loss: 0.0939, train_acc: 0.9699\n",
      "Epoch [26], train_loss: 0.0908, train_acc: 0.9712\n",
      "Epoch [27], train_loss: 0.0878, train_acc: 0.9731\n",
      "Epoch [28], train_loss: 0.0848, train_acc: 0.9753\n",
      "Epoch [29], train_loss: 0.0819, train_acc: 0.9765\n",
      "Epoch [30], train_loss: 0.0790, train_acc: 0.9781\n",
      "Epoch [31], train_loss: 0.0762, train_acc: 0.9795\n",
      "Epoch [32], train_loss: 0.0735, train_acc: 0.9812\n",
      "Epoch [33], train_loss: 0.0708, train_acc: 0.9824\n",
      "Epoch [34], train_loss: 0.0682, train_acc: 0.9840\n",
      "Epoch [35], train_loss: 0.0657, train_acc: 0.9847\n",
      "Epoch [36], train_loss: 0.0632, train_acc: 0.9862\n",
      "Epoch [37], train_loss: 0.0607, train_acc: 0.9866\n",
      "Epoch [38], train_loss: 0.0584, train_acc: 0.9875\n",
      "Epoch [39], train_loss: 0.0561, train_acc: 0.9885\n",
      "Epoch [40], train_loss: 0.0539, train_acc: 0.9890\n",
      "Epoch [41], train_loss: 0.0517, train_acc: 0.9901\n",
      "Epoch [42], train_loss: 0.0496, train_acc: 0.9911\n",
      "Epoch [43], train_loss: 0.0476, train_acc: 0.9916\n",
      "Epoch [44], train_loss: 0.0456, train_acc: 0.9929\n",
      "Epoch [45], train_loss: 0.0438, train_acc: 0.9933\n",
      "Epoch [46], train_loss: 0.0419, train_acc: 0.9935\n",
      "Epoch [47], train_loss: 0.0401, train_acc: 0.9937\n",
      "Epoch [48], train_loss: 0.0384, train_acc: 0.9942\n",
      "Epoch [49], train_loss: 0.0367, train_acc: 0.9946\n",
      "Epoch [50], train_loss: 0.0352, train_acc: 0.9951\n",
      "Epoch [51], train_loss: 0.0338, train_acc: 0.9952\n",
      "Epoch [52], train_loss: 0.0322, train_acc: 0.9955\n",
      "Epoch [53], train_loss: 0.0308, train_acc: 0.9958\n",
      "Epoch [54], train_loss: 0.0294, train_acc: 0.9962\n",
      "Epoch [55], train_loss: 0.0281, train_acc: 0.9964\n",
      "Epoch [56], train_loss: 0.0270, train_acc: 0.9967\n",
      "Epoch [57], train_loss: 0.0259, train_acc: 0.9967\n",
      "Epoch [58], train_loss: 0.0246, train_acc: 0.9967\n",
      "Epoch [59], train_loss: 0.0235, train_acc: 0.9973\n",
      "Epoch [60], train_loss: 0.0225, train_acc: 0.9974\n",
      "Epoch [61], train_loss: 0.0215, train_acc: 0.9974\n",
      "Epoch [62], train_loss: 0.0206, train_acc: 0.9979\n",
      "Epoch [63], train_loss: 0.0197, train_acc: 0.9979\n",
      "Epoch [64], train_loss: 0.0189, train_acc: 0.9983\n",
      "Epoch [65], train_loss: 0.0181, train_acc: 0.9984\n",
      "Epoch [66], train_loss: 0.0173, train_acc: 0.9985\n",
      "Epoch [67], train_loss: 0.0165, train_acc: 0.9986\n",
      "Epoch [68], train_loss: 0.0158, train_acc: 0.9986\n",
      "Epoch [69], train_loss: 0.0152, train_acc: 0.9986\n",
      "Epoch [70], train_loss: 0.0146, train_acc: 0.9989\n",
      "Epoch [71], train_loss: 0.0140, train_acc: 0.9989\n",
      "Epoch [72], train_loss: 0.0134, train_acc: 0.9989\n",
      "Epoch [73], train_loss: 0.0128, train_acc: 0.9989\n",
      "Epoch [74], train_loss: 0.0123, train_acc: 0.9990\n",
      "Epoch [75], train_loss: 0.0118, train_acc: 0.9991\n",
      "Epoch [76], train_loss: 0.0114, train_acc: 0.9991\n",
      "Epoch [77], train_loss: 0.0109, train_acc: 0.9992\n",
      "Epoch [78], train_loss: 0.0104, train_acc: 0.9992\n",
      "Epoch [79], train_loss: 0.0100, train_acc: 0.9992\n",
      "Epoch [80], train_loss: 0.0096, train_acc: 0.9992\n",
      "Epoch [81], train_loss: 0.0093, train_acc: 0.9994\n",
      "Epoch [82], train_loss: 0.0089, train_acc: 0.9994\n",
      "Epoch [83], train_loss: 0.0086, train_acc: 0.9995\n",
      "Epoch [84], train_loss: 0.0082, train_acc: 0.9996\n",
      "Epoch [85], train_loss: 0.0079, train_acc: 0.9998\n",
      "Epoch [86], train_loss: 0.0077, train_acc: 0.9999\n",
      "Epoch [87], train_loss: 0.0074, train_acc: 0.9999\n",
      "Epoch [88], train_loss: 0.0071, train_acc: 0.9999\n",
      "Epoch [89], train_loss: 0.0069, train_acc: 0.9999\n",
      "Epoch [90], train_loss: 0.0067, train_acc: 0.9999\n",
      "Epoch [91], train_loss: 0.0064, train_acc: 0.9999\n",
      "Epoch [92], train_loss: 0.0062, train_acc: 0.9999\n",
      "Epoch [93], train_loss: 0.0061, train_acc: 0.9999\n",
      "Epoch [94], train_loss: 0.0059, train_acc: 0.9999\n",
      "Epoch [95], train_loss: 0.0057, train_acc: 0.9999\n",
      "Epoch [96], train_loss: 0.0055, train_acc: 1.0000\n",
      "Epoch [97], train_loss: 0.0053, train_acc: 1.0000\n",
      "Epoch [98], train_loss: 0.0052, train_acc: 1.0000\n",
      "Epoch [99], train_loss: 0.0050, train_acc: 1.0000\n",
      "validation set: {'loss': 0.24031133949756622, 'accuracy': 0.9120000004768372}\n"
     ]
    },
    {
     "data": {
      "image/png": "[encoded data removed]",
      "text/plain": [
       "<Figure size 432x288 with 1 Axes>"
      ]
     },
     "metadata": {
      "needs_background": "light"
     },
     "output_type": "display_data"
    }
   ],
   "source": [
    "train_epochs(model, epochs=100, lr=0.001)\n",
    "print('validation set:', evaluate(model, x_val, y_val))\n",
    "plot_accuracies(metrics)"
   ]
  },
  {
   "cell_type": "code",
   "execution_count": 38,
   "metadata": {},
   "outputs": [
    {
     "name": "stdout",
     "output_type": "stream",
     "text": [
      "test set: {'loss': 0.3190191388130188, 'accuracy': 0.9089999794960022}\n"
     ]
    }
   ],
   "source": [
    "print('test set:', evaluate(model, x_test, y_test))"
   ]
  },
  {
   "cell_type": "code",
   "execution_count": null,
   "metadata": {},
   "outputs": [],
   "source": []
  }
 ],
 "metadata": {
  "kernelspec": {
   "display_name": "Python 3",
   "language": "python",
   "name": "python3"
  },
  "language_info": {
   "codemirror_mode": {
    "name": "ipython",
    "version": 3
   },
   "file_extension": ".py",
   "mimetype": "text/x-python",
   "name": "python",
   "nbconvert_exporter": "python",
   "pygments_lexer": "ipython3",
   "version": "3.8.3"
  }
 },
 "nbformat": 4,
 "nbformat_minor": 4
}
